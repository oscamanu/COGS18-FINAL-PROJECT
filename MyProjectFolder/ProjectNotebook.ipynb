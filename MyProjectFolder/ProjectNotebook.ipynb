{
 "cells": [
  {
   "cell_type": "markdown",
   "id": "0b029df0",
   "metadata": {},
   "source": [
    "\n",
    "\n",
    "# Project Description\n",
    "\n"
   ]
  },
  {
   "cell_type": "markdown",
   "id": "7ffe7b5a",
   "metadata": {},
   "source": [
    "## Introduction\n",
    "\n",
    "The Caesar Cipher is a simple encryption technique. It involves shifting the characters of a message by a fixed number of positions down the alphabet.\n",
    "\n",
    "In my implementation, we also shift digits!\n",
    "\n",
    "## Implementation\n",
    "\n",
    "### Overview\n",
    "\n",
    "The project implements the basic Caesar Cipher.\n",
    "\n",
    "The purpose of this project is working with Python code and geting comfortable executing code with minimal assistance.\n",
    "\n",
    "### Usage\n",
    "\n",
    "1. Execute the `my_script.py` file.\n",
    "2. Input personal information as prompted.\n",
    "3. Choose to encrypt or decrypt a text (OR Brute Force Decrypt).\n",
    "4. View the encrypted/decrypted result.\n",
    "\n",
    "# Example Usage\n",
    "\n",
    "## *Encrypt (Message -> COGS 01 )*\n",
    "#### Make your message a secret! (Caesar Cipher Edition)\n",
    "#### Would you like to encrypt or decrypt a message?\n",
    "#### (0: encrypt, 1: decrypt, 2: HACK-brute force): 0\n",
    "#### Enter your message: COGS 018 UC SAN DIEGO\n",
    "#### Enter the shift amount: 5\n",
    "#### Original Message: COGS 018 UC SAN DIEGO\n",
    "#### Encrypted Message: HTLX 563 ZH XFS INJLT\n",
    "\n"
   ]
  },
  {
   "cell_type": "code",
   "execution_count": 14,
   "id": "12d12a85",
   "metadata": {
    "slideshow": {
     "slide_type": "slide"
    }
   },
   "outputs": [],
   "source": [
    "import scripts.my_scripts as script"
   ]
  },
  {
   "cell_type": "code",
   "execution_count": 16,
   "id": "2a2e3847",
   "metadata": {},
   "outputs": [
    {
     "name": "stdout",
     "output_type": "stream",
     "text": [
      "Make your message a secret! (Caesar Cipher Edition)\n",
      "Would you like to encrypt or decrypt a message?\n",
      "(0: encrypt, 1: decrypt, 2: HACK-brute force): 0\n",
      "Enter your message: COGS 018 UC SAN DIEGO\n",
      "Enter the shift amount: 5\n",
      "Original Message: COGS 018 UC SAN DIEGO\n",
      "Encrypted Message: HTLX 563 ZH XFS INJLT\n"
     ]
    }
   ],
   "source": [
    "script.main()"
   ]
  },
  {
   "cell_type": "markdown",
   "id": "2425efcd",
   "metadata": {},
   "source": [
    "## *Decrypt (Encrypted Text -> HTLX 563 ZH XFS INJLT )*\n",
    "\n",
    "#### Make your message a secret! (Caesar Cipher Edition)\n",
    "#### Would you like to encrypt or decrypt a message?\n",
    "#### (0: encrypt, 1: decrypt, 2: HACK-brute force): 1\n",
    "#### Enter Encrypted Message: HTLX 563 ZH XFS INJLT\n",
    "#### Enter the magic code: 5\n",
    "#### Encrypted Message: HTLX 563 ZH XFS INJLT\n",
    "#### Decrypted! Original Message: COGS 018 UC SAN DIEGO"
   ]
  },
  {
   "cell_type": "code",
   "execution_count": 18,
   "id": "76b2f65a",
   "metadata": {},
   "outputs": [
    {
     "name": "stdout",
     "output_type": "stream",
     "text": [
      "Make your message a secret! (Caesar Cipher Edition)\n",
      "Would you like to encrypt or decrypt a message?\n",
      "(0: encrypt, 1: decrypt, 2: HACK-brute force): 1\n",
      "Enter Encrypted Message: HTLX 563 ZH XFS INJLT\n",
      "Enter the magic code: 5\n",
      "Encrypted Message: HTLX 563 ZH XFS INJLT\n",
      "Decrypted! Original Message: COGS 018 UC SAN DIEGO\n"
     ]
    }
   ],
   "source": [
    "script.main()"
   ]
  },
  {
   "cell_type": "markdown",
   "id": "cd5a413d",
   "metadata": {},
   "source": [
    "## *Brute Force (Encrypted Text -> HTLX 563 ZH XFS INJLT )*\n",
    "\n",
    "#### Make your message a secret! (Caesar Cipher Edition)\n",
    "#### Would you like to encrypt or decrypt a message?\n",
    "#### (0: encrypt, 1: decrypt, 2: HACK-brute force): 2\n",
    "#### Enter Encrypted Message: HTLX 563 ZH XFS INJLT\n",
    "#### All Possible Decryptions of:  HTLX 563 ZH XFS INJLT\n",
    "#### 0 )  HTLX 563 ZH XFS INJLT\n",
    "#### 1 )  GSKW 452 YG WER HMIKS\n",
    "#### 2 )  FRJV 341 XF VDQ GLHJR\n",
    "#### 3 )  EQIU 230 WE UCP FKGIQ\n",
    "#### 4 )  DPHT 129 VD TBO EJFHP\n",
    "### 5 )  COGS 018 UC SAN DIEGO\n",
    "#### 6 )  BNFR 907 TB RZM CHDFN\n",
    "#### ... \n",
    "#### 25) IUMY 018 AI YGT JOKMU"
   ]
  },
  {
   "cell_type": "code",
   "execution_count": 20,
   "id": "ecf387dd",
   "metadata": {},
   "outputs": [
    {
     "name": "stdout",
     "output_type": "stream",
     "text": [
      "Make your message a secret! (Caesar Cipher Edition)\n",
      "Would you like to encrypt or decrypt a message?\n",
      "(0: encrypt, 1: decrypt, 2: HACK-brute force): 2\n",
      "Enter Encrypted Message: HTLX 563 ZH XFS INJLT\n",
      "All Possible Decryptions of:  HTLX 563 ZH XFS INJLT\n",
      "0 )  HTLX 563 ZH XFS INJLT\n",
      "1 )  GSKW 452 YG WER HMIKS\n",
      "2 )  FRJV 341 XF VDQ GLHJR\n",
      "3 )  EQIU 230 WE UCP FKGIQ\n",
      "4 )  DPHT 129 VD TBO EJFHP\n",
      "5 )  COGS 018 UC SAN DIEGO\n",
      "6 )  BNFR 907 TB RZM CHDFN\n",
      "7 )  AMEQ 896 SA QYL BGCEM\n",
      "8 )  ZLDP 785 RZ PXK AFBDL\n",
      "9 )  YKCO 674 QY OWJ ZEACK\n",
      "10 ) XJBN 563 PX NVI YDZBJ\n",
      "11 ) WIAM 452 OW MUH XCYAI\n",
      "12 ) VHZL 341 NV LTG WBXZH\n",
      "13 ) UGYK 230 MU KSF VAWYG\n",
      "14 ) TFXJ 129 LT JRE UZVXF\n",
      "15 ) SEWI 018 KS IQD TYUWE\n",
      "16 ) RDVH 907 JR HPC SXTVD\n",
      "17 ) QCUG 896 IQ GOB RWSUC\n",
      "18 ) PBTF 785 HP FNA QVRTB\n",
      "19 ) OASE 674 GO EMZ PUQSA\n",
      "20 ) NZRD 563 FN DLY OTPRZ\n",
      "21 ) MYQC 452 EM CKX NSOQY\n",
      "22 ) LXPB 341 DL BJW MRNPX\n",
      "23 ) KWOA 230 CK AIV LQMOW\n",
      "24 ) JVNZ 129 BJ ZHU KPLNV\n",
      "25 ) IUMY 018 AI YGT JOKMU\n"
     ]
    }
   ],
   "source": [
    "script.main()"
   ]
  },
  {
   "cell_type": "markdown",
   "id": "f2fa341f",
   "metadata": {},
   "source": [
    "## Function Testing\n",
    "\n",
    "I have created some basic test functions that test both the encryption and decryption function. The function names are encrypt_text and decrypt_text.\n",
    "\n",
    "\n",
    "These are the 2 main things that need to be tested. \n",
    "\n",
    "# Running the Tests!\n",
    "    "
   ]
  },
  {
   "cell_type": "code",
   "execution_count": 35,
   "id": "c1d70376",
   "metadata": {},
   "outputs": [],
   "source": [
    "import my_module.test_functions as test\n"
   ]
  },
  {
   "cell_type": "code",
   "execution_count": 36,
   "id": "ad83567e",
   "metadata": {},
   "outputs": [],
   "source": [
    "test.test_encr()\n"
   ]
  },
  {
   "cell_type": "code",
   "execution_count": 37,
   "id": "2d360316",
   "metadata": {},
   "outputs": [],
   "source": [
    "test.test_decr()"
   ]
  },
  {
   "cell_type": "markdown",
   "id": "2d083deb",
   "metadata": {},
   "source": [
    "\n",
    "### Extra Credit (up to 4%)\n",
    "\n",
    "###### For extra credit, if you go above and beyond on the minimal project requirements and challenge yourself to approach a project that is more complex than the basic requirements, requires you to learn something beyond what was taught in the course, or uses code concepts not taught in class, explain this at the end of your Jupyter notebook. Here, you should explain why your approach was particularly difficult/challenging for you and how your work goes beyond the minimal project requirements.\n",
    "\n",
    "If I had more time on this project, I would implement other ciphers and other encrytion methods alongside the Caesar Cipher, since the Caesar Cipher is fairly simple. I implemented a \"Brute Force\" algorithm which shows the simplicity of the Caesar Cipher because of how easy it was broken.\n",
    "\n",
    "Something that I was trying to work on and complete was another method to break the Caesar Cipher called Frequency analysis, which uses the frequency of commonly used letter in the enlgish alphabet to determine which of the 26 options that my Brute Force algorithm gave us would be most probable in being the correct one. This was fairly complex to understand, so if I had a little more time I would try to understand this one a bit more"
   ]
  },
  {
   "cell_type": "markdown",
   "id": "527f4743",
   "metadata": {},
   "source": [
    "# GITHUB REPO:"
   ]
  },
  {
   "cell_type": "markdown",
   "id": "3da54a25",
   "metadata": {},
   "source": [
    "https://github.com/oscamanu/COGS18-FINAL-PROJECT"
   ]
  },
  {
   "cell_type": "code",
   "execution_count": null,
   "id": "57cfee93",
   "metadata": {},
   "outputs": [],
   "source": []
  }
 ],
 "metadata": {
  "kernelspec": {
   "display_name": "Python 3 (ipykernel)",
   "language": "python",
   "name": "python3"
  },
  "language_info": {
   "codemirror_mode": {
    "name": "ipython",
    "version": 3
   },
   "file_extension": ".py",
   "mimetype": "text/x-python",
   "name": "python",
   "nbconvert_exporter": "python",
   "pygments_lexer": "ipython3",
   "version": "3.9.5"
  }
 },
 "nbformat": 4,
 "nbformat_minor": 5
}
